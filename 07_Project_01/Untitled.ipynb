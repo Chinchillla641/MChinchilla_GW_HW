{
 "cells": [
  {
   "cell_type": "code",
   "execution_count": 1,
   "metadata": {},
   "outputs": [],
   "source": [
    "# set dependencies\n",
    "import pandas as pd\n",
    "import numpy as np\n",
    "import matplotlib as plt\n",
    "import requests\n",
    "import re as re"
   ]
  },
  {
   "cell_type": "code",
   "execution_count": 4,
   "metadata": {},
   "outputs": [],
   "source": [
    "api_key = \"27279b812fe4f25f2c43584f1be9bdb9\"\n",
    "\n",
    "base = {\"Date\": [\"NA\"], \"Rate\": [\"NA\"]}\n",
    "df = pd.DataFrame(base)\n",
    "\n",
    "months = [\"01\"]\n",
    "countries = [\"USD\"]\n",
    "\n",
    "for i in months:\n",
    "    for j in range(2005, 2006):\n",
    "        for c in countries:\n",
    "            url = f\"http://data.fixer.io/api/{j}-{i}-01?access_key={api_key}&base=EUR&symbols={c}\"\n",
    "\n",
    "            curr = requests.get(url)\n",
    "            curr_js = curr.json()\n",
    "\n",
    "            date = curr_js[\"date\"]\n",
    "        \n",
    "            rate = curr_js[\"rates\"]\n",
    "\n",
    "            d = {\"Date\": [date], \"Rate\": [rate]}\n",
    "            df2 = pd.DataFrame(d)\n",
    "        \n",
    "            df = df.append(df2)"
   ]
  },
  {
   "cell_type": "code",
   "execution_count": 6,
   "metadata": {},
   "outputs": [
    {
     "name": "stdout",
     "output_type": "stream",
     "text": [
      "{'success': True, 'timestamp': 1104623999, 'historical': True, 'base': 'EUR', 'date': '2005-01-01', 'rates': {'USD': 1.358363}}\n"
     ]
    }
   ],
   "source": [
    "print(curr_js)"
   ]
  },
  {
   "cell_type": "code",
   "execution_count": null,
   "metadata": {},
   "outputs": [],
   "source": []
  }
 ],
 "metadata": {
  "kernelspec": {
   "display_name": "Python 3",
   "language": "python",
   "name": "python3"
  },
  "language_info": {
   "codemirror_mode": {
    "name": "ipython",
    "version": 3
   },
   "file_extension": ".py",
   "mimetype": "text/x-python",
   "name": "python",
   "nbconvert_exporter": "python",
   "pygments_lexer": "ipython3",
   "version": "3.7.3"
  }
 },
 "nbformat": 4,
 "nbformat_minor": 2
}
