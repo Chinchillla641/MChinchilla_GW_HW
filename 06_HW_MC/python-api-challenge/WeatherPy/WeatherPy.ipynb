{
 "cells": [
  {
   "cell_type": "markdown",
   "metadata": {},
   "source": [
    "# WeatherPy\n",
    "----\n",
    "\n",
    "#### Note\n",
    "* Instructions have been included for each segment. You do not have to follow them exactly, but they are included to help you think through the steps."
   ]
  },
  {
   "cell_type": "code",
   "execution_count": 1,
   "metadata": {
    "scrolled": true
   },
   "outputs": [],
   "source": [
    "# Dependencies and Setup\n",
    "import matplotlib.pyplot as plt\n",
    "import pandas as pd\n",
    "import numpy as np\n",
    "import requests\n",
    "import time\n",
    "\n",
    "# Import API key\n",
    "api_key = \"bab9a3d1c4575fafc4915a63f3316348\"\n",
    "\n",
    "# Incorporated citipy to determine city based on latitude and longitude\n",
    "from citipy import citipy\n",
    "\n",
    "# Output File (CSV)\n",
    "output_data_file = \"output_data/cities.csv\"\n",
    "\n",
    "# Range of latitudes and longitudes\n",
    "lat_range = (-90, 90)\n",
    "lng_range = (-180, 180)"
   ]
  },
  {
   "cell_type": "markdown",
   "metadata": {},
   "source": [
    "## Generate Cities List"
   ]
  },
  {
   "cell_type": "code",
   "execution_count": 2,
   "metadata": {},
   "outputs": [
    {
     "data": {
      "text/plain": [
       "100"
      ]
     },
     "execution_count": 2,
     "metadata": {},
     "output_type": "execute_result"
    }
   ],
   "source": [
    "# List for holding lat_lngs and cities\n",
    "lat_lngs = []\n",
    "cities = []\n",
    "\n",
    "# Create a set of random lat and lng combinations\n",
    "lats = np.random.uniform(low=-90.000, high=90.000, size=1500)\n",
    "lngs = np.random.uniform(low=-180.000, high=180.000, size=1500)\n",
    "lat_lngs = zip(lats, lngs)\n",
    "\n",
    "# Identify nearest city for each lat, lng combination\n",
    "for lat_lng in lat_lngs:\n",
    "    city = citipy.nearest_city(lat_lng[0], lat_lng[1]).city_name\n",
    "    \n",
    "    # If the city is unique, then add it to a our cities list\n",
    "    if city not in cities and len(cities) < 100:\n",
    "        cities.append(city)\n",
    "\n",
    "# Print the city count to confirm sufficient count\n",
    "len(cities)"
   ]
  },
  {
   "cell_type": "markdown",
   "metadata": {},
   "source": [
    "### Perform API Calls\n",
    "* Perform a weather check on each city using a series of successive API calls.\n",
    "* Include a print log of each city as it'sbeing processed (with the city number and city name).\n"
   ]
  },
  {
   "cell_type": "code",
   "execution_count": 3,
   "metadata": {},
   "outputs": [
    {
     "name": "stdout",
     "output_type": "stream",
     "text": [
      "City: ormara ID: <Response [200]>\n",
      "City: lockport ID: <Response [200]>\n",
      "City: barrow ID: <Response [200]>\n",
      "City: gitega ID: <Response [200]>\n",
      "City: hilo ID: <Response [200]>\n",
      "City: geraldton ID: <Response [200]>\n",
      "City: dingle ID: <Response [200]>\n",
      "City: bafra ID: <Response [200]>\n",
      "City: sayyan ID: <Response [200]>\n",
      "City: barentsburg ID: <Response [404]>\n",
      "City: beyneu ID: <Response [200]>\n",
      "City: bethel ID: <Response [200]>\n",
      "City: hithadhoo ID: <Response [200]>\n",
      "City: bac lieu ID: <Response [404]>\n",
      "City: esperance ID: <Response [200]>\n",
      "City: khatanga ID: <Response [200]>\n",
      "City: hobart ID: <Response [200]>\n",
      "City: fortuna ID: <Response [200]>\n",
      "City: rikitea ID: <Response [200]>\n",
      "City: la ronge ID: <Response [200]>\n",
      "City: punta arenas ID: <Response [200]>\n",
      "City: lorengau ID: <Response [200]>\n",
      "City: formoso do araguaia ID: <Response [404]>\n",
      "City: provideniya ID: <Response [200]>\n",
      "City: castro ID: <Response [200]>\n",
      "City: havre-saint-pierre ID: <Response [200]>\n",
      "City: ribeira grande ID: <Response [200]>\n",
      "City: saint-philippe ID: <Response [200]>\n",
      "City: chumikan ID: <Response [200]>\n",
      "City: garowe ID: <Response [200]>\n",
      "City: mongo ID: <Response [200]>\n",
      "City: tingrela ID: <Response [404]>\n",
      "City: saldanha ID: <Response [200]>\n",
      "City: talnakh ID: <Response [200]>\n",
      "City: uvinza ID: <Response [200]>\n",
      "City: russell ID: <Response [200]>\n",
      "City: ushuaia ID: <Response [200]>\n",
      "City: avarua ID: <Response [200]>\n",
      "City: attawapiskat ID: <Response [404]>\n",
      "City: puerto ayora ID: <Response [200]>\n",
      "City: norman wells ID: <Response [200]>\n",
      "City: luhyny ID: <Response [200]>\n",
      "City: mar del plata ID: <Response [200]>\n",
      "City: zadar ID: <Response [200]>\n",
      "City: kruisfontein ID: <Response [200]>\n",
      "City: erzin ID: <Response [200]>\n",
      "City: inhambane ID: <Response [200]>\n",
      "City: mataura ID: <Response [200]>\n",
      "City: bolungarvik ID: <Response [404]>\n",
      "City: anahuac ID: <Response [200]>\n",
      "City: husavik ID: <Response [200]>\n",
      "City: sattenapalle ID: <Response [200]>\n",
      "City: palabuhanratu ID: <Response [404]>\n",
      "City: ilulissat ID: <Response [200]>\n",
      "City: carnarvon ID: <Response [200]>\n",
      "City: tsihombe ID: <Response [404]>\n",
      "City: lyubinskiy ID: <Response [200]>\n",
      "City: vanimo ID: <Response [200]>\n",
      "City: amderma ID: <Response [404]>\n",
      "City: pindwara ID: <Response [200]>\n",
      "City: brae ID: <Response [200]>\n",
      "City: busselton ID: <Response [200]>\n",
      "City: ponta delgada ID: <Response [200]>\n",
      "City: port alfred ID: <Response [200]>\n",
      "City: flin flon ID: <Response [200]>\n",
      "City: jaragua ID: <Response [404]>\n",
      "City: airai ID: <Response [200]>\n",
      "City: cape town ID: <Response [200]>\n",
      "City: mount gambier ID: <Response [200]>\n",
      "City: barahona ID: <Response [200]>\n",
      "City: los llanos de aridane ID: <Response [200]>\n",
      "City: ostrovnoy ID: <Response [200]>\n",
      "City: coquimbo ID: <Response [200]>\n",
      "City: kodiak ID: <Response [200]>\n",
      "City: cockburn town ID: <Response [200]>\n",
      "City: butaritari ID: <Response [200]>\n",
      "City: bluff ID: <Response [200]>\n",
      "City: north bend ID: <Response [200]>\n",
      "City: georgetown ID: <Response [200]>\n",
      "City: yellowknife ID: <Response [200]>\n",
      "City: hermanus ID: <Response [200]>\n",
      "City: yinchuan ID: <Response [200]>\n",
      "City: illoqqortoormiut ID: <Response [404]>\n",
      "City: faanui ID: <Response [200]>\n",
      "City: tasiilaq ID: <Response [200]>\n",
      "City: lavrentiya ID: <Response [200]>\n",
      "City: atuona ID: <Response [200]>\n",
      "City: kitimat ID: <Response [200]>\n",
      "City: kabarnet ID: <Response [200]>\n",
      "City: victoria ID: <Response [200]>\n",
      "City: iqaluit ID: <Response [200]>\n",
      "City: sorong ID: <Response [200]>\n",
      "City: arraial do cabo ID: <Response [200]>\n",
      "City: mys shmidta ID: <Response [404]>\n",
      "City: saskylakh ID: <Response [200]>\n",
      "City: haines junction ID: <Response [200]>\n",
      "City: meulaboh ID: <Response [200]>\n",
      "City: jiangyou ID: <Response [200]>\n",
      "City: palencia ID: <Response [200]>\n",
      "City: iskateley ID: <Response [200]>\n"
     ]
    }
   ],
   "source": [
    "base = {\"City\": [\"\"], \"Cloudiness\": [\"\"], \"Country\": [\"\"], \"Date\": [\"\"], \"Humidity\": [\"\"], \\\n",
    "         \"Lat\": [\"\"], \"Lng\": [\"\"], \"Max Temp\": [\"\"], \"Wind Speed\": [\"\"]}\n",
    "df = pd.DataFrame(base)\n",
    "\n",
    "for city in cities:\n",
    "    time.sleep(1.0001)\n",
    "    url = f\"http://api.openweathermap.org/data/2.5/weather?units=Imperial&appid=bab9a3d1c4575fafc4915a63f3316348&q={city}\"\n",
    "\n",
    "    weather = requests.get(url)\n",
    "    weather_js = weather.json()\n",
    "    \n",
    "    print(f\"City: {city} ID: {weather}\")\n",
    "    \n",
    "    if weather_js[\"cod\"] != 200:\n",
    "        continue\n",
    "    \n",
    "    cloudiness = weather_js[\"clouds\"][\"all\"]\n",
    "    country = weather_js[\"sys\"][\"country\"]\n",
    "    date = weather_js[\"dt\"]\n",
    "    humidity = weather_js[\"main\"][\"humidity\"]\n",
    "    lat = weather_js[\"coord\"][\"lat\"]\n",
    "    lng = weather_js[\"coord\"][\"lon\"]\n",
    "    maxtmp = weather_js[\"main\"][\"temp_max\"]\n",
    "    wind = weather_js[\"wind\"][\"speed\"]\n",
    "\n",
    "    d = {\"City\": [city], \"Cloudiness\": [cloudiness], \"Country\": [country], \"Date\": [date], \"Humidity\": [humidity], \\\n",
    "         \"Lat\": [lat], \"Lng\": [lng], \"Max Temp\": [maxtmp], \"Wind Speed\": [wind]}\n",
    "    df2 = pd.DataFrame(d)\n",
    "        \n",
    "    df = df.append(df2)      "
   ]
  },
  {
   "cell_type": "markdown",
   "metadata": {},
   "source": [
    "### Convert Raw Data to DataFrame\n",
    "* Export the city data into a .csv.\n",
    "* Display the DataFrame"
   ]
  },
  {
   "cell_type": "code",
   "execution_count": 4,
   "metadata": {},
   "outputs": [
    {
     "data": {
      "text/html": [
       "<div>\n",
       "<style scoped>\n",
       "    .dataframe tbody tr th:only-of-type {\n",
       "        vertical-align: middle;\n",
       "    }\n",
       "\n",
       "    .dataframe tbody tr th {\n",
       "        vertical-align: top;\n",
       "    }\n",
       "\n",
       "    .dataframe thead th {\n",
       "        text-align: right;\n",
       "    }\n",
       "</style>\n",
       "<table border=\"1\" class=\"dataframe\">\n",
       "  <thead>\n",
       "    <tr style=\"text-align: right;\">\n",
       "      <th></th>\n",
       "      <th>City</th>\n",
       "      <th>Cloudiness</th>\n",
       "      <th>Country</th>\n",
       "      <th>Date</th>\n",
       "      <th>Humidity</th>\n",
       "      <th>Lat</th>\n",
       "      <th>Lng</th>\n",
       "      <th>Max Temp</th>\n",
       "      <th>Wind Speed</th>\n",
       "    </tr>\n",
       "  </thead>\n",
       "  <tbody>\n",
       "    <tr>\n",
       "      <th>1</th>\n",
       "      <td>ormara</td>\n",
       "      <td>0</td>\n",
       "      <td>PK</td>\n",
       "      <td>1573765132</td>\n",
       "      <td>53</td>\n",
       "      <td>25.21</td>\n",
       "      <td>64.64</td>\n",
       "      <td>76.55</td>\n",
       "      <td>6.73</td>\n",
       "    </tr>\n",
       "    <tr>\n",
       "      <th>2</th>\n",
       "      <td>lockport</td>\n",
       "      <td>40</td>\n",
       "      <td>CA</td>\n",
       "      <td>1573765133</td>\n",
       "      <td>63</td>\n",
       "      <td>50.09</td>\n",
       "      <td>-96.94</td>\n",
       "      <td>28.99</td>\n",
       "      <td>20.8</td>\n",
       "    </tr>\n",
       "    <tr>\n",
       "      <th>3</th>\n",
       "      <td>barrow</td>\n",
       "      <td>23</td>\n",
       "      <td>AR</td>\n",
       "      <td>1573765134</td>\n",
       "      <td>41</td>\n",
       "      <td>-38.31</td>\n",
       "      <td>-60.23</td>\n",
       "      <td>70.38</td>\n",
       "      <td>9.17</td>\n",
       "    </tr>\n",
       "    <tr>\n",
       "      <th>4</th>\n",
       "      <td>gitega</td>\n",
       "      <td>100</td>\n",
       "      <td>BI</td>\n",
       "      <td>1573765135</td>\n",
       "      <td>95</td>\n",
       "      <td>-3.43</td>\n",
       "      <td>29.93</td>\n",
       "      <td>60.04</td>\n",
       "      <td>2.51</td>\n",
       "    </tr>\n",
       "    <tr>\n",
       "      <th>5</th>\n",
       "      <td>hilo</td>\n",
       "      <td>20</td>\n",
       "      <td>US</td>\n",
       "      <td>1573765102</td>\n",
       "      <td>58</td>\n",
       "      <td>19.71</td>\n",
       "      <td>-155.08</td>\n",
       "      <td>84.2</td>\n",
       "      <td>5.82</td>\n",
       "    </tr>\n",
       "  </tbody>\n",
       "</table>\n",
       "</div>"
      ],
      "text/plain": [
       "       City Cloudiness Country        Date Humidity    Lat     Lng Max Temp  \\\n",
       "1    ormara          0      PK  1573765132       53  25.21   64.64    76.55   \n",
       "2  lockport         40      CA  1573765133       63  50.09  -96.94    28.99   \n",
       "3    barrow         23      AR  1573765134       41 -38.31  -60.23    70.38   \n",
       "4    gitega        100      BI  1573765135       95  -3.43   29.93    60.04   \n",
       "5      hilo         20      US  1573765102       58  19.71 -155.08     84.2   \n",
       "\n",
       "  Wind Speed  \n",
       "1       6.73  \n",
       "2       20.8  \n",
       "3       9.17  \n",
       "4       2.51  \n",
       "5       5.82  "
      ]
     },
     "execution_count": 4,
     "metadata": {},
     "output_type": "execute_result"
    }
   ],
   "source": [
    "# # conversion to DF done within the API loop above\n",
    "df.reset_index(inplace = True, drop = True)\n",
    "df = df.drop([0])\n",
    "df.head()"
   ]
  },
  {
   "cell_type": "markdown",
   "metadata": {},
   "source": [
    "### Plotting the Data\n",
    "* Use proper labeling of the plots using plot titles (including date of analysis) and axes labels.\n",
    "* Save the plotted figures as .pngs."
   ]
  },
  {
   "cell_type": "markdown",
   "metadata": {},
   "source": [
    "#### Latitude vs. Temperature Plot"
   ]
  },
  {
   "cell_type": "code",
   "execution_count": 5,
   "metadata": {},
   "outputs": [
    {
     "data": {
      "image/png": "[encoded data removed]",
      "text/plain": [
       "<Figure size 432x288 with 1 Axes>"
      ]
     },
     "metadata": {
      "needs_background": "light"
     },
     "output_type": "display_data"
    }
   ],
   "source": [
    "plt.scatter(df[\"Lat\"], df[\"Max Temp\"])\n",
    "\n",
    "plt.title(\"City Latitude vs. Max Temperature\")\n",
    "plt.xlabel(\"Latitude\")\n",
    "plt.ylabel(\"Temperature (Farenheit)\")\n",
    "plt.grid(True)\n",
    "\n",
    "plt.savefig(\"latvstemp.png\")"
   ]
  },
  {
   "cell_type": "markdown",
   "metadata": {},
   "source": [
    "#### Latitude vs. Humidity Plot"
   ]
  },
  {
   "cell_type": "code",
   "execution_count": 6,
   "metadata": {},
   "outputs": [
    {
     "data": {
      "image/png": "[encoded data removed]",
      "text/plain": [
       "<Figure size 432x288 with 1 Axes>"
      ]
     },
     "metadata": {
      "needs_background": "light"
     },
     "output_type": "display_data"
    }
   ],
   "source": [
    "plt.scatter(df[\"Lat\"], df[\"Humidity\"])\n",
    "\n",
    "plt.title(\"City Latitude vs. Humidity\")\n",
    "plt.xlabel(\"Latitude\")\n",
    "plt.ylabel(\"Humidity (%)\")\n",
    "plt.grid(True)\n",
    "\n",
    "plt.savefig(\"latvshum.png\")"
   ]
  },
  {
   "cell_type": "markdown",
   "metadata": {},
   "source": [
    "#### Latitude vs. Cloudiness Plot"
   ]
  },
  {
   "cell_type": "code",
   "execution_count": 7,
   "metadata": {},
   "outputs": [
    {
     "data": {
      "image/png": "[encoded data removed]",
      "text/plain": [
       "<Figure size 432x288 with 1 Axes>"
      ]
     },
     "metadata": {
      "needs_background": "light"
     },
     "output_type": "display_data"
    }
   ],
   "source": [
    "plt.scatter(df[\"Lat\"], df[\"Cloudiness\"])\n",
    "\n",
    "plt.title(\"City Latitude vs. Cloudiness\")\n",
    "plt.xlabel(\"Latitude\")\n",
    "plt.ylabel(\"Cloudiness (%)\")\n",
    "plt.grid(True)\n",
    "\n",
    "plt.savefig(\"latvscloud.png\")"
   ]
  },
  {
   "cell_type": "markdown",
   "metadata": {},
   "source": [
    "#### Latitude vs. Wind Speed Plot"
   ]
  },
  {
   "cell_type": "code",
   "execution_count": 8,
   "metadata": {},
   "outputs": [
    {
     "data": {
      "image/png": "[encoded data removed]",
      "text/plain": [
       "<Figure size 432x288 with 1 Axes>"
      ]
     },
     "metadata": {
      "needs_background": "light"
     },
     "output_type": "display_data"
    }
   ],
   "source": [
    "plt.scatter(df[\"Lat\"], df[\"Wind Speed\"])\n",
    "\n",
    "plt.title(\"City Latitude vs. Wind Speed\")\n",
    "plt.xlabel(\"Latitude\")\n",
    "plt.ylabel(\"Wind Speed (mph)\")\n",
    "plt.grid(True)\n",
    "\n",
    "plt.savefig(\"latvswind.png\")"
   ]
  },
  {
   "cell_type": "code",
   "execution_count": null,
   "metadata": {},
   "outputs": [],
   "source": []
  }
 ],
 "metadata": {
  "anaconda-cloud": {},
  "kernel_info": {
   "name": "python3"
  },
  "kernelspec": {
   "display_name": "Python 3",
   "language": "python",
   "name": "python3"
  },
  "language_info": {
   "codemirror_mode": {
    "name": "ipython",
    "version": 3
   },
   "file_extension": ".py",
   "mimetype": "text/x-python",
   "name": "python",
   "nbconvert_exporter": "python",
   "pygments_lexer": "ipython3",
   "version": "3.7.3"
  },
  "nteract": {
   "version": "0.12.3"
  }
 },
 "nbformat": 4,
 "nbformat_minor": 2
}
